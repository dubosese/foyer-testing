{
 "cells": [
  {
   "cell_type": "code",
   "execution_count": 1,
   "metadata": {},
   "outputs": [
    {
     "data": {
      "application/vnd.jupyter.widget-view+json": {
       "model_id": "7b76d9d76021458c99cf160f8a945605",
       "version_major": 2,
       "version_minor": 0
      },
      "text/plain": []
     },
     "metadata": {},
     "output_type": "display_data"
    }
   ],
   "source": [
    "import mbuild as mb\n",
    "import antefoyer\n",
    "import numpy as np\n",
    "import foyer\n",
    "import parmed as pmd\n",
    "import copy\n",
    "from atools.lib.chains import Alkylsilane\n",
    "from atools.recipes import DualSurface, SilicaInterface, SurfaceMonolayer\n",
    "from atools.lib.chains.alkylsilane_internal import Alkylsilane as AlkylsilaneInternal\n",
    "from mbuild.lib.atoms import H\n",
    "from mbuild.formats.lammpsdata import write_lammpsdata\n",
    "from foyer import Forcefield\n",
    "from foyer import forcefield\n",
    "from foyer.atomtyper import find_atomtypes\n",
    "import simtk.openmm.app.element as elem\n",
    "import foyer.element as custom_elem\n",
    "import simtk.unit as u\n",
    "from simtk import openmm as mm\n",
    "from simtk.openmm import app\n",
    "from simtk.openmm.app.forcefield import (NoCutoff, CutoffNonPeriodic, HBonds, AllBonds, HAngles, NonbondedGenerator, _convertParameterToNumber)\n",
    "from rdkit import Chem\n",
    "from rdkit.Chem.Draw import IPythonConsole "
   ]
  },
  {
   "cell_type": "markdown",
   "metadata": {},
   "source": [
    "Short Chain"
   ]
  },
  {
   "cell_type": "code",
   "execution_count": 3,
   "metadata": {},
   "outputs": [
    {
     "name": "stdout",
     "output_type": "stream",
     "text": [
      "Missing bonds: [<Bond <Atom C [22]; In RES 0>--<Atom H [26]; In RES 0>; type=None>, <Bond <Atom C [23]; In RES 0>--<Atom H [25]; In RES 0>; type=None>]\n",
      "Missing angle with ids (20, 21, 23) and types ['opls_548', 'opls_549', 'opls_558B'].\n",
      "Missing angle with ids (20, 22, 26) and types ['opls_548', 'opls_558B', 'opls_144'].\n",
      "Missing angle with ids (21, 23, 24) and types ['opls_549', 'opls_558B', 'opls_520B'].\n",
      "Missing angle with ids (21, 23, 25) and types ['opls_549', 'opls_558B', 'opls_144'].\n",
      "Missing angle with ids (22, 24, 23) and types ['opls_558B', 'opls_520B', 'opls_558B'].\n",
      "Missing angle with ids (24, 22, 26) and types ['opls_520B', 'opls_558B', 'opls_144'].\n",
      "Missing angle with ids (24, 23, 25) and types ['opls_520B', 'opls_558B', 'opls_144'].\n",
      "Missing dihedral with ids (14, 17, 20, 21) and types ['opls_136', 'opls_245B', 'opls_548', 'opls_549'].\n",
      "Missing dihedral with ids (15, 14, 17, 20) and types ['opls_140', 'opls_136', 'opls_245B', 'opls_548'].\n",
      "Missing dihedral with ids (16, 14, 17, 20) and types ['opls_140', 'opls_136', 'opls_245B', 'opls_548'].\n",
      "Missing dihedral with ids (18, 17, 20, 21) and types ['opls_140', 'opls_245B', 'opls_548', 'opls_549'].\n",
      "Missing dihedral with ids (19, 17, 20, 21) and types ['opls_140', 'opls_245B', 'opls_548', 'opls_549'].\n"
     ]
    }
   ],
   "source": [
    "length = 5; terminal_group = 'triazole'; backbone = 'methylene'; \n",
    "locations = [2]\n",
    "\n",
    "cpa = AlkylsilaneInternal(chain_length=length, internal_group=backbone, locations=locations, terminal_group=terminal_group)\n",
    "cpa.visualize()\n",
    "structure = cpa.to_parmed(box=None, residues=['chain'])\n",
    "ff = Forcefield(forcefield_files='oplsaa-july-29.xml')\n",
    "\n",
    "structure_ = ff.apply(structure,verbose=True)\n",
    "\n",
    "# structure_.save('{}-nov-28.top'.format(terminal_group),overwrite=True)"
   ]
  },
  {
   "cell_type": "markdown",
   "metadata": {},
   "source": [
    "548 549 558B\n",
    "NA. NB. CR. \n",
    "548 558B 144\n",
    "NA. CR.  HC.\n",
    "549 558B 520B\n",
    "NB. CR.  NB. "
   ]
  },
  {
   "cell_type": "code",
   "execution_count": 12,
   "metadata": {},
   "outputs": [
    {
     "data": {
      "application/3dmoljs_load.v0": "<div id=\"3dmolviewer_16022617958836951\"  style=\"position: relative; width: 640px; height: 480px\">\n        <p id=\"3dmolwarning_16022617958836951\" style=\"background-color:#ffcccc;color:black\">You appear to be running in JupyterLab (or JavaScript failed to load for some other reason).  You need to install the 3dmol extension: <br>\n        <tt>jupyter labextension install jupyterlab_3dmol</tt></p>\n        </div>\n<script>\n\nvar loadScriptAsync = function(uri){\n  return new Promise((resolve, reject) => {\n    var tag = document.createElement('script');\n    tag.src = uri;\n    tag.async = true;\n    tag.onload = () => {\n      resolve();\n    };\n  var firstScriptTag = document.getElementsByTagName('script')[0];\n  firstScriptTag.parentNode.insertBefore(tag, firstScriptTag);\n});\n};\n\nif(typeof $3Dmolpromise === 'undefined') {\n$3Dmolpromise = null;\n  $3Dmolpromise = loadScriptAsync('https://3dmol.csb.pitt.edu/build/3Dmol.js');\n}\n\nvar viewer_16022617958836951 = null;\nvar warn = document.getElementById(\"3dmolwarning_16022617958836951\");\nif(warn) {\n    warn.parentNode.removeChild(warn);\n}\n$3Dmolpromise.then(function() {\nviewer_16022617958836951 = $3Dmol.createViewer($(\"#3dmolviewer_16022617958836951\"),{backgroundColor:\"white\"});\n\tviewer_16022617958836951.addModel(\"@<TRIPOS>MOLECULE\\nRES\\n36 36 1 0 1\\nSMALL\\nNO_CHARGES\\n@<TRIPOS>CRYSIN\\n    9.3595    20.7360     6.4730    90.0000    90.0000    90.0000  1  1\\n@<TRIPOS>ATOM\\n       1 Si          -0.0000    -1.4000    -0.0000 Si            1 RES     \\n       2 O            1.3073    -1.4000    -0.0000 O             1 RES     \\n       3 H            1.6345    -1.3684    -0.6710 H             1 RES     \\n       4 O           -1.4502    -1.2491     0.0000 O             1 RES     \\n       5 H           -1.8179    -1.3317     0.8020 H             1 RES     \\n       6 C            0.0000     0.0000     0.0000 C             1 RES     \\n       7 H           -1.1000     0.0000     0.0000 H             1 RES     \\n       8 H            1.1000     0.0000     0.0000 H             1 RES     \\n       9 C            0.0000     1.4000     0.0000 C             1 RES     \\n      10 H           -1.1000     1.4000     0.0000 H             1 RES     \\n      11 H            1.1000     1.4000    -0.0000 H             1 RES     \\n      12 C            0.0000     2.8000     0.0000 C             1 RES     \\n      13 H           -1.1000     2.8000     0.0000 H             1 RES     \\n      14 H            1.1000     2.8000    -0.0000 H             1 RES     \\n      15 C            0.0000     4.2000     0.0000 C             1 RES     \\n      16 H           -1.1000     4.2000     0.0000 H             1 RES     \\n      17 H            1.1000     4.2000    -0.0000 H             1 RES     \\n      18 C            0.0000     5.6000     0.0000 C             1 RES     \\n      19 H           -1.1000     5.6000     0.0000 H             1 RES     \\n      20 H            1.1000     5.6000    -0.0000 H             1 RES     \\n      21 C            0.0000     7.0000     0.0000 C             1 RES     \\n      22 H           -1.1000     7.0000     0.0000 H             1 RES     \\n      23 H            1.1000     7.0000     0.0000 H             1 RES     \\n      24 C            0.0000     8.4000     0.0000 C             1 RES     \\n      25 H           -1.1000     8.4000     0.0000 H             1 RES     \\n      26 H            1.1000     8.4000    -0.0000 H             1 RES     \\n      27 C            0.0000     9.8000     0.0000 C             1 RES     \\n      28 H           -1.1000     9.8000     0.0000 H             1 RES     \\n      29 H            1.1000     9.8000    -0.0000 H             1 RES     \\n      30 N            0.0000    11.2000     0.0000 N             1 RES     \\n      31 N            1.4610    11.8540     0.0000 N             1 RES     \\n      32 C           -1.4920    11.7630     0.0000 C             1 RES     \\n      33 C            0.8220    13.3610     0.0000 C             1 RES     \\n      34 N           -0.9900    13.3770     0.0000 N             1 RES     \\n      35 H            1.5220    14.3360     0.0000 H             1 RES     \\n      36 H           -2.7250    11.4590     0.0000 H             1 RES     \\n@<TRIPOS>BOND\\n       1       33       35 1\\n       2        4        1 1\\n       3       31       33 1\\n       4       16       15 1\\n       5       12        9 1\\n       6        6        9 1\\n       7       27       24 1\\n       8       20       18 1\\n       9       29       27 1\\n      10        2        3 1\\n      11        2        1 1\\n      12       12       14 1\\n      13       32       36 1\\n      14       12       15 1\\n      15       27       30 1\\n      16        6        8 1\\n      17       30       31 1\\n      18       21       18 1\\n      19       32       34 1\\n      20       25       24 1\\n      21       23       21 1\\n      22       21       24 1\\n      23       17       15 1\\n      24        9       10 1\\n      25       26       24 1\\n      26       12       13 1\\n      27       28       27 1\\n      28        6        7 1\\n      29       15       18 1\\n      30       33       34 1\\n      31        9       11 1\\n      32       30       32 1\\n      33        6        1 1\\n      34        4        5 1\\n      35       18       19 1\\n      36       22       21 1\\n@<TRIPOS>SUBSTRUCTURE\\n       1 RES             1 RESIDUE    0 **** ROOT      0\\n\",\"mol2\");\n\tviewer_16022617958836951.setStyle({\"stick\": {\"radius\": 0.2, \"color\": \"grey\"}, \"sphere\": {\"scale\": 0.3, \"colorscheme\": {}}});\n\tviewer_16022617958836951.zoomTo();\nviewer_16022617958836951.render();\n});\n</script>",
      "text/html": [
       "<div id=\"3dmolviewer_16022617958836951\"  style=\"position: relative; width: 640px; height: 480px\">\n",
       "        <p id=\"3dmolwarning_16022617958836951\" style=\"background-color:#ffcccc;color:black\">You appear to be running in JupyterLab (or JavaScript failed to load for some other reason).  You need to install the 3dmol extension: <br>\n",
       "        <tt>jupyter labextension install jupyterlab_3dmol</tt></p>\n",
       "        </div>\n",
       "<script>\n",
       "\n",
       "var loadScriptAsync = function(uri){\n",
       "  return new Promise((resolve, reject) => {\n",
       "    var tag = document.createElement('script');\n",
       "    tag.src = uri;\n",
       "    tag.async = true;\n",
       "    tag.onload = () => {\n",
       "      resolve();\n",
       "    };\n",
       "  var firstScriptTag = document.getElementsByTagName('script')[0];\n",
       "  firstScriptTag.parentNode.insertBefore(tag, firstScriptTag);\n",
       "});\n",
       "};\n",
       "\n",
       "if(typeof $3Dmolpromise === 'undefined') {\n",
       "$3Dmolpromise = null;\n",
       "  $3Dmolpromise = loadScriptAsync('https://3dmol.csb.pitt.edu/build/3Dmol.js');\n",
       "}\n",
       "\n",
       "var viewer_16022617958836951 = null;\n",
       "var warn = document.getElementById(\"3dmolwarning_16022617958836951\");\n",
       "if(warn) {\n",
       "    warn.parentNode.removeChild(warn);\n",
       "}\n",
       "$3Dmolpromise.then(function() {\n",
       "viewer_16022617958836951 = $3Dmol.createViewer($(\"#3dmolviewer_16022617958836951\"),{backgroundColor:\"white\"});\n",
       "\tviewer_16022617958836951.addModel(\"@<TRIPOS>MOLECULE\\nRES\\n36 36 1 0 1\\nSMALL\\nNO_CHARGES\\n@<TRIPOS>CRYSIN\\n    9.3595    20.7360     6.4730    90.0000    90.0000    90.0000  1  1\\n@<TRIPOS>ATOM\\n       1 Si          -0.0000    -1.4000    -0.0000 Si            1 RES     \\n       2 O            1.3073    -1.4000    -0.0000 O             1 RES     \\n       3 H            1.6345    -1.3684    -0.6710 H             1 RES     \\n       4 O           -1.4502    -1.2491     0.0000 O             1 RES     \\n       5 H           -1.8179    -1.3317     0.8020 H             1 RES     \\n       6 C            0.0000     0.0000     0.0000 C             1 RES     \\n       7 H           -1.1000     0.0000     0.0000 H             1 RES     \\n       8 H            1.1000     0.0000     0.0000 H             1 RES     \\n       9 C            0.0000     1.4000     0.0000 C             1 RES     \\n      10 H           -1.1000     1.4000     0.0000 H             1 RES     \\n      11 H            1.1000     1.4000    -0.0000 H             1 RES     \\n      12 C            0.0000     2.8000     0.0000 C             1 RES     \\n      13 H           -1.1000     2.8000     0.0000 H             1 RES     \\n      14 H            1.1000     2.8000    -0.0000 H             1 RES     \\n      15 C            0.0000     4.2000     0.0000 C             1 RES     \\n      16 H           -1.1000     4.2000     0.0000 H             1 RES     \\n      17 H            1.1000     4.2000    -0.0000 H             1 RES     \\n      18 C            0.0000     5.6000     0.0000 C             1 RES     \\n      19 H           -1.1000     5.6000     0.0000 H             1 RES     \\n      20 H            1.1000     5.6000    -0.0000 H             1 RES     \\n      21 C            0.0000     7.0000     0.0000 C             1 RES     \\n      22 H           -1.1000     7.0000     0.0000 H             1 RES     \\n      23 H            1.1000     7.0000     0.0000 H             1 RES     \\n      24 C            0.0000     8.4000     0.0000 C             1 RES     \\n      25 H           -1.1000     8.4000     0.0000 H             1 RES     \\n      26 H            1.1000     8.4000    -0.0000 H             1 RES     \\n      27 C            0.0000     9.8000     0.0000 C             1 RES     \\n      28 H           -1.1000     9.8000     0.0000 H             1 RES     \\n      29 H            1.1000     9.8000    -0.0000 H             1 RES     \\n      30 N            0.0000    11.2000     0.0000 N             1 RES     \\n      31 N            1.4610    11.8540     0.0000 N             1 RES     \\n      32 C           -1.4920    11.7630     0.0000 C             1 RES     \\n      33 C            0.8220    13.3610     0.0000 C             1 RES     \\n      34 N           -0.9900    13.3770     0.0000 N             1 RES     \\n      35 H            1.5220    14.3360     0.0000 H             1 RES     \\n      36 H           -2.7250    11.4590     0.0000 H             1 RES     \\n@<TRIPOS>BOND\\n       1       33       35 1\\n       2        4        1 1\\n       3       31       33 1\\n       4       16       15 1\\n       5       12        9 1\\n       6        6        9 1\\n       7       27       24 1\\n       8       20       18 1\\n       9       29       27 1\\n      10        2        3 1\\n      11        2        1 1\\n      12       12       14 1\\n      13       32       36 1\\n      14       12       15 1\\n      15       27       30 1\\n      16        6        8 1\\n      17       30       31 1\\n      18       21       18 1\\n      19       32       34 1\\n      20       25       24 1\\n      21       23       21 1\\n      22       21       24 1\\n      23       17       15 1\\n      24        9       10 1\\n      25       26       24 1\\n      26       12       13 1\\n      27       28       27 1\\n      28        6        7 1\\n      29       15       18 1\\n      30       33       34 1\\n      31        9       11 1\\n      32       30       32 1\\n      33        6        1 1\\n      34        4        5 1\\n      35       18       19 1\\n      36       22       21 1\\n@<TRIPOS>SUBSTRUCTURE\\n       1 RES             1 RESIDUE    0 **** ROOT      0\\n\",\"mol2\");\n",
       "\tviewer_16022617958836951.setStyle({\"stick\": {\"radius\": 0.2, \"color\": \"grey\"}, \"sphere\": {\"scale\": 0.3, \"colorscheme\": {}}});\n",
       "\tviewer_16022617958836951.zoomTo();\n",
       "viewer_16022617958836951.render();\n",
       "});\n",
       "</script>"
      ]
     },
     "metadata": {},
     "output_type": "display_data"
    },
    {
     "data": {
      "text/plain": [
       "<py3Dmol.view at 0x7f95c18f3c50>"
      ]
     },
     "execution_count": 12,
     "metadata": {},
     "output_type": "execute_result"
    }
   ],
   "source": [
    "cpa.visualize()"
   ]
  },
  {
   "cell_type": "code",
   "execution_count": 29,
   "metadata": {},
   "outputs": [
    {
     "data": {
      "text/plain": [
       "'[Si](O)(O)CCn1ncnc1'"
      ]
     },
     "execution_count": 29,
     "metadata": {},
     "output_type": "execute_result"
    }
   ],
   "source": [
    "cpa.get_smiles()"
   ]
  },
  {
   "cell_type": "markdown",
   "metadata": {},
   "source": [
    "Dual monolayer with short chains"
   ]
  },
  {
   "cell_type": "code",
   "execution_count": 5,
   "metadata": {},
   "outputs": [],
   "source": [
    "length = 17; seed = 12345; pattern_type = \"random\"; terminal_group = 'benzoicacid'; fraction = 0.5; num_chains = 1; backbone = 'methylene'; locations = [2,5,8,11,14]\n",
    "\n",
    "cpa = AlkylsilaneInternal(chain_length=length, internal_group=backbone, locations=locations, terminal_group=terminal_group);\n",
    "cpb = AlkylsilaneInternal(chain_length=length, internal_group=backbone, locations=locations, terminal_group=terminal_group);\n",
    "cpc = AlkylsilaneInternal(chain_length=length, internal_group=backbone, locations=locations, terminal_group=terminal_group);\n",
    "cpd = AlkylsilaneInternal(chain_length=length, internal_group=backbone, locations=locations, terminal_group=terminal_group);\n",
    "\n",
    "surface_a = SilicaInterface(thickness=1.2, seed=seed)\n",
    "surface_b = SilicaInterface(thickness=1.2, seed=seed)\n",
    "\n",
    "monolayer_a = SurfaceMonolayer(surface=surface_a, chains=[cpa,cpb], n_chains=num_chains, seed=seed, backfill=H(), rotate=False, fractions=[fraction, 1-fraction]);\n",
    "monolayer_a.name = \"Bottom\"\n",
    "        \n",
    "monolayer_b = SurfaceMonolayer(surface=surface_b, chains=[cpc,cpd], n_chains=num_chains, seed=seed, backfill=H(), rotate=False, fractions=[fraction, 1-fraction]);\n",
    "monolayer_b.name = \"Top\"\n",
    "\n",
    "dual_monolayer = DualSurface(bottom=monolayer_a, top=monolayer_b, separation=2.0);\n",
    "box = dual_monolayer.boundingbox; dual_monolayer.periodicity += np.array([0, 0, 5.0 * box.lengths[2]])\n",
    "\n",
    "for p in dual_monolayer.particles():\n",
    "    if p.name == \"OS\":\n",
    "        p.name = \"O\"\n",
    "\n",
    "structure = dual_monolayer.to_parmed(box=None, residues=[\"Top\", \"Bottom\"])\n",
    "ff = Forcefield(forcefield_files='oplsaa-july-29.xml')\n",
    "structure = ff.apply(structure,verbose=True)"
   ]
  },
  {
   "cell_type": "code",
   "execution_count": 6,
   "metadata": {},
   "outputs": [],
   "source": [
    "structure.save('{}-system.top'.format(terminal_group), overwrite=True)"
   ]
  },
  {
   "cell_type": "code",
   "execution_count": 58,
   "metadata": {},
   "outputs": [
    {
     "data": {
      "image/png": "[encoded data removed]",
      "text/plain": [
       "<rdkit.Chem.rdchem.Mol at 0x7fe23eda6210>"
      ]
     },
     "execution_count": 58,
     "metadata": {},
     "output_type": "execute_result"
    }
   ],
   "source": [
    "substructure = Chem.MolFromSmarts(\n",
    "    '[N;X2;r5]1[C;X3;r5][N;X2;r5][N;X3;r5][C;X3;r5]1'\n",
    "    )\n",
    "substructure"
   ]
  },
  {
   "cell_type": "code",
   "execution_count": 33,
   "metadata": {},
   "outputs": [
    {
     "data": {
      "image/png": "[encoded data removed]",
      "text/plain": [
       "<rdkit.Chem.rdchem.Mol at 0x7f95bfdbb6c0>"
      ]
     },
     "execution_count": 33,
     "metadata": {},
     "output_type": "execute_result"
    }
   ],
   "source": [
    "substructure = Chem.MolFromSmarts(\n",
    "     '[C;X3;r5]1[N;X3;r5][N;X2;r5][C;X3;r5][N;X2;r5]1'\n",
    "    )\n",
    "substructure"
   ]
  },
  {
   "cell_type": "code",
   "execution_count": 30,
   "metadata": {},
   "outputs": [
    {
     "data": {
      "image/png": "[encoded data removed]",
      "text/plain": [
       "<rdkit.Chem.rdchem.Mol at 0x7f95c04c8bc0>"
      ]
     },
     "execution_count": 30,
     "metadata": {},
     "output_type": "execute_result"
    }
   ],
   "source": [
    "substructure = Chem.MolFromSmarts(\n",
    "\"C(N)N\"    )\n",
    "substructure"
   ]
  },
  {
   "cell_type": "code",
   "execution_count": 85,
   "metadata": {},
   "outputs": [
    {
     "data": {
      "image/png": "[encoded data removed]",
      "text/plain": [
       "<rdkit.Chem.rdchem.Mol at 0x7fe23a306030>"
      ]
     },
     "execution_count": 85,
     "metadata": {},
     "output_type": "execute_result"
    }
   ],
   "source": [
    "substructure = Chem.MolFromSmarts(\n",
    "    '[C][N;X3](C)(C)'\n",
    "    )\n",
    "substructure"
   ]
  }
 ],
 "metadata": {
  "kernelspec": {
   "display_name": "Python 3",
   "language": "python",
   "name": "python3"
  },
  "language_info": {
   "codemirror_mode": {
    "name": "ipython",
    "version": 3
   },
   "file_extension": ".py",
   "mimetype": "text/x-python",
   "name": "python",
   "nbconvert_exporter": "python",
   "pygments_lexer": "ipython3",
   "version": "3.6.10"
  }
 },
 "nbformat": 4,
 "nbformat_minor": 4
}
