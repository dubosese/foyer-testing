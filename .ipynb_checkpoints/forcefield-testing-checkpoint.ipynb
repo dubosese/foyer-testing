{
 "cells": [
  {
   "cell_type": "code",
   "execution_count": 1,
   "metadata": {},
   "outputs": [
    {
     "data": {
      "application/vnd.jupyter.widget-view+json": {
       "model_id": "d29edfb6474d4f3eb75df2c7d1ccd6b1",
       "version_major": 2,
       "version_minor": 0
      },
      "text/plain": []
     },
     "metadata": {},
     "output_type": "display_data"
    }
   ],
   "source": [
    "import mbuild as mb\n",
    "import antefoyer\n",
    "import numpy as np\n",
    "import foyer\n",
    "import parmed as pmd\n",
    "import copy\n",
    "from atools.lib.chains import Alkylsilane\n",
    "from atools.recipes import DualSurface, SilicaInterface, SurfaceMonolayer\n",
    "from atools.lib.chains.alkylsilane_internal import Alkylsilane as AlkylsilaneInternal\n",
    "from mbuild.lib.atoms import H\n",
    "from mbuild.formats.lammpsdata import write_lammpsdata\n",
    "from foyer import Forcefield\n",
    "from foyer import forcefield\n",
    "from foyer.atomtyper import find_atomtypes\n",
    "import simtk.openmm.app.element as elem\n",
    "import foyer.element as custom_elem\n",
    "import simtk.unit as u\n",
    "from simtk import openmm as mm\n",
    "from simtk.openmm import app\n",
    "from simtk.openmm.app.forcefield import (NoCutoff, CutoffNonPeriodic, HBonds, AllBonds, HAngles, NonbondedGenerator, _convertParameterToNumber)\n",
    "# from rdkit import Chem\n",
    "# from rdkit.Chem.Draw import IPythonConsole"
   ]
  },
  {
   "cell_type": "markdown",
   "metadata": {},
   "source": [
    "Short Chain"
   ]
  },
  {
   "cell_type": "code",
   "execution_count": 2,
   "metadata": {},
   "outputs": [
    {
     "data": {
      "application/3dmoljs_load.v0": "<div id=\"3dmolviewer_16013309116304908\"  style=\"position: relative; width: 640px; height: 480px\">\n        <p id=\"3dmolwarning_16013309116304908\" style=\"background-color:#ffcccc;color:black\">You appear to be running in JupyterLab (or JavaScript failed to load for some other reason).  You need to install the 3dmol extension: <br>\n        <tt>jupyter labextension install jupyterlab_3dmol</tt></p>\n        </div>\n<script>\n\nvar loadScriptAsync = function(uri){\n  return new Promise((resolve, reject) => {\n    var tag = document.createElement('script');\n    tag.src = uri;\n    tag.async = true;\n    tag.onload = () => {\n      resolve();\n    };\n  var firstScriptTag = document.getElementsByTagName('script')[0];\n  firstScriptTag.parentNode.insertBefore(tag, firstScriptTag);\n});\n};\n\nif(typeof $3Dmolpromise === 'undefined') {\n$3Dmolpromise = null;\n  $3Dmolpromise = loadScriptAsync('https://3dmol.csb.pitt.edu/build/3Dmol.js');\n}\n\nvar viewer_16013309116304908 = null;\nvar warn = document.getElementById(\"3dmolwarning_16013309116304908\");\nif(warn) {\n    warn.parentNode.removeChild(warn);\n}\n$3Dmolpromise.then(function() {\nviewer_16013309116304908 = $3Dmol.createViewer($(\"#3dmolviewer_16013309116304908\"),{backgroundColor:\"white\"});\n\tviewer_16013309116304908.addModel(\"@<TRIPOS>MOLECULE\\nRES\\n70 70 1 0 1\\nSMALL\\nNO_CHARGES\\n@<TRIPOS>CRYSIN\\n    8.4524    35.5576     9.0692    90.0000    90.0000    90.0000  1  1\\n@<TRIPOS>ATOM\\n       1 Si          -0.0000    -1.4000    -0.0000 Si            1 RES     \\n       2 O            1.3073    -1.4000    -0.0000 O             1 RES     \\n       3 H            1.6345    -1.3684    -0.6710 H             1 RES     \\n       4 O           -1.4502    -1.2491     0.0000 O             1 RES     \\n       5 H           -1.8179    -1.3317     0.8020 H             1 RES     \\n       6 C            0.0000     0.0000     0.0000 C             1 RES     \\n       7 H           -1.1000     0.0000     0.0000 H             1 RES     \\n       8 H            1.1000     0.0000     0.0000 H             1 RES     \\n       9 C            0.0000     1.4000     0.0000 C             1 RES     \\n      10 H           -1.1000     1.4000     0.0000 H             1 RES     \\n      11 H            1.1000     1.4000    -0.0000 H             1 RES     \\n      12 C            0.0000     2.8500     0.0000 C             1 RES     \\n      13 F           -1.4000     2.8500     0.0000 F             1 RES     \\n      14 F            1.4000     2.8500    -0.0000 F             1 RES     \\n      15 C            0.0000     4.3000     0.0000 C             1 RES     \\n      16 H           -1.1000     4.3000     0.0000 H             1 RES     \\n      17 H            1.1000     4.3000    -0.0000 H             1 RES     \\n      18 C            0.0000     5.7000     0.0000 C             1 RES     \\n      19 H           -1.1000     5.7000     0.0000 H             1 RES     \\n      20 H            1.1000     5.7000    -0.0000 H             1 RES     \\n      21 C            0.0000     7.1500     0.0000 C             1 RES     \\n      22 F           -1.4000     7.1500     0.0000 F             1 RES     \\n      23 F            1.4000     7.1500    -0.0000 F             1 RES     \\n      24 C            0.0000     8.6000     0.0000 C             1 RES     \\n      25 H           -1.1000     8.6000     0.0000 H             1 RES     \\n      26 H            1.1000     8.6000    -0.0000 H             1 RES     \\n      27 C            0.0000    10.0000     0.0000 C             1 RES     \\n      28 H           -1.1000    10.0000     0.0000 H             1 RES     \\n      29 H            1.1000    10.0000    -0.0000 H             1 RES     \\n      30 C            0.0000    11.4500     0.0000 C             1 RES     \\n      31 F           -1.4000    11.4500     0.0000 F             1 RES     \\n      32 F            1.4000    11.4500    -0.0000 F             1 RES     \\n      33 C            0.0000    12.9000     0.0000 C             1 RES     \\n      34 H           -1.1000    12.9000     0.0000 H             1 RES     \\n      35 H            1.1000    12.9000     0.0000 H             1 RES     \\n      36 C            0.0000    14.3000     0.0000 C             1 RES     \\n      37 H           -1.1000    14.3000     0.0000 H             1 RES     \\n      38 H            1.1000    14.3000     0.0000 H             1 RES     \\n      39 C            0.0000    15.7500     0.0000 C             1 RES     \\n      40 F           -1.4000    15.7500     0.0000 F             1 RES     \\n      41 F            1.4000    15.7500     0.0000 F             1 RES     \\n      42 C            0.0000    17.2000     0.0000 C             1 RES     \\n      43 H           -1.1000    17.2000     0.0000 H             1 RES     \\n      44 H            1.1000    17.2000     0.0000 H             1 RES     \\n      45 C            0.0000    18.6000     0.0000 C             1 RES     \\n      46 H           -1.1000    18.6000     0.0000 H             1 RES     \\n      47 H            1.1000    18.6000     0.0000 H             1 RES     \\n      48 C            0.0000    20.0500     0.0000 C             1 RES     \\n      49 F           -1.4000    20.0500     0.0000 F             1 RES     \\n      50 F            1.4000    20.0500     0.0000 F             1 RES     \\n      51 C            0.0000    21.5000     0.0000 C             1 RES     \\n      52 H           -1.1000    21.5000     0.0000 H             1 RES     \\n      53 H            1.1000    21.5000     0.0000 H             1 RES     \\n      54 C            0.0000    22.9000     0.0000 C             1 RES     \\n      55 H           -1.1000    22.9000     0.0000 H             1 RES     \\n      56 H            1.1000    22.9000     0.0000 H             1 RES     \\n      57 O           -0.5430    29.1576     0.9921 O             1 RES     \\n      58 C            0.0046    28.5876    -0.0002 C             1 RES     \\n      59 O            0.5531    29.1527    -0.9941 O             1 RES     \\n      60 C            0.0046    27.0931    -0.0026 C             1 RES     \\n      61 C            0.3012    26.3899     1.1666 C             1 RES     \\n      62 C            0.3107    24.9969     1.1653 C             1 RES     \\n      63 C            0.0000    24.3000     0.0000 C             1 RES     \\n      64 C           -0.3115    24.9966    -1.1647 C             1 RES     \\n      65 C           -0.2992    26.3890    -1.1651 C             1 RES     \\n      66 H            0.9304    28.6354    -1.6778 H             1 RES     \\n      67 H            0.5144    26.9040     2.0356 H             1 RES     \\n      68 H            0.5487    24.4821     2.0267 H             1 RES     \\n      69 H           -0.5516    24.4825    -2.0265 H             1 RES     \\n      70 H           -0.5162    26.9038    -2.0336 H             1 RES     \\n@<TRIPOS>BOND\\n       1        6        9 1\\n       2       42       45 1\\n       3       54       56 1\\n       4       45       46 1\\n       5       33       34 1\\n       6       48       51 1\\n       7       15       18 1\\n       8       48       49 1\\n       9       30       31 1\\n      10       18       19 1\\n      11       12       13 1\\n      12       61       67 1\\n      13       21       24 1\\n      14       36       37 1\\n      15       24       26 1\\n      16       60       65 1\\n      17       45       48 1\\n      18        9       12 1\\n      19       36       39 1\\n      20       18       21 1\\n      21       64       69 1\\n      22       57       58 1\\n      23       30       33 1\\n      24       54       55 1\\n      25       33       35 1\\n      26       24       27 1\\n      27        9       10 1\\n      28       63       64 1\\n      29       21       22 1\\n      30        6        8 1\\n      31       42       44 1\\n      32       33       36 1\\n      33       15       16 1\\n      34       12       15 1\\n      35       54       63 1\\n      36       51       53 1\\n      37        6        7 1\\n      38       42       43 1\\n      39       39       42 1\\n      40       59       66 1\\n      41        1        2 1\\n      42        2        3 1\\n      43       62       68 1\\n      44       60       61 1\\n      45        1        6 1\\n      46       15       17 1\\n      47       65       70 1\\n      48       39       40 1\\n      49        4        5 1\\n      50       27       28 1\\n      51       61       62 1\\n      52       24       25 1\\n      53       39       41 1\\n      54       27       29 1\\n      55       30       32 1\\n      56       18       20 1\\n      57       64       65 1\\n      58       51       54 1\\n      59       62       63 1\\n      60       48       50 1\\n      61       12       14 1\\n      62       36       38 1\\n      63        1        4 1\\n      64       58       59 1\\n      65       27       30 1\\n      66        9       11 1\\n      67       21       23 1\\n      68       45       47 1\\n      69       58       60 1\\n      70       51       52 1\\n@<TRIPOS>SUBSTRUCTURE\\n       1 RES             1 RESIDUE    0 **** ROOT      0\\n\",\"mol2\");\n\tviewer_16013309116304908.setStyle({\"stick\": {\"radius\": 0.2, \"color\": \"grey\"}, \"sphere\": {\"scale\": 0.3, \"colorscheme\": {}}});\n\tviewer_16013309116304908.zoomTo();\nviewer_16013309116304908.render();\n});\n</script>",
      "text/html": [
       "<div id=\"3dmolviewer_16013309116304908\"  style=\"position: relative; width: 640px; height: 480px\">\n",
       "        <p id=\"3dmolwarning_16013309116304908\" style=\"background-color:#ffcccc;color:black\">You appear to be running in JupyterLab (or JavaScript failed to load for some other reason).  You need to install the 3dmol extension: <br>\n",
       "        <tt>jupyter labextension install jupyterlab_3dmol</tt></p>\n",
       "        </div>\n",
       "<script>\n",
       "\n",
       "var loadScriptAsync = function(uri){\n",
       "  return new Promise((resolve, reject) => {\n",
       "    var tag = document.createElement('script');\n",
       "    tag.src = uri;\n",
       "    tag.async = true;\n",
       "    tag.onload = () => {\n",
       "      resolve();\n",
       "    };\n",
       "  var firstScriptTag = document.getElementsByTagName('script')[0];\n",
       "  firstScriptTag.parentNode.insertBefore(tag, firstScriptTag);\n",
       "});\n",
       "};\n",
       "\n",
       "if(typeof $3Dmolpromise === 'undefined') {\n",
       "$3Dmolpromise = null;\n",
       "  $3Dmolpromise = loadScriptAsync('https://3dmol.csb.pitt.edu/build/3Dmol.js');\n",
       "}\n",
       "\n",
       "var viewer_16013309116304908 = null;\n",
       "var warn = document.getElementById(\"3dmolwarning_16013309116304908\");\n",
       "if(warn) {\n",
       "    warn.parentNode.removeChild(warn);\n",
       "}\n",
       "$3Dmolpromise.then(function() {\n",
       "viewer_16013309116304908 = $3Dmol.createViewer($(\"#3dmolviewer_16013309116304908\"),{backgroundColor:\"white\"});\n",
       "\tviewer_16013309116304908.addModel(\"@<TRIPOS>MOLECULE\\nRES\\n70 70 1 0 1\\nSMALL\\nNO_CHARGES\\n@<TRIPOS>CRYSIN\\n    8.4524    35.5576     9.0692    90.0000    90.0000    90.0000  1  1\\n@<TRIPOS>ATOM\\n       1 Si          -0.0000    -1.4000    -0.0000 Si            1 RES     \\n       2 O            1.3073    -1.4000    -0.0000 O             1 RES     \\n       3 H            1.6345    -1.3684    -0.6710 H             1 RES     \\n       4 O           -1.4502    -1.2491     0.0000 O             1 RES     \\n       5 H           -1.8179    -1.3317     0.8020 H             1 RES     \\n       6 C            0.0000     0.0000     0.0000 C             1 RES     \\n       7 H           -1.1000     0.0000     0.0000 H             1 RES     \\n       8 H            1.1000     0.0000     0.0000 H             1 RES     \\n       9 C            0.0000     1.4000     0.0000 C             1 RES     \\n      10 H           -1.1000     1.4000     0.0000 H             1 RES     \\n      11 H            1.1000     1.4000    -0.0000 H             1 RES     \\n      12 C            0.0000     2.8500     0.0000 C             1 RES     \\n      13 F           -1.4000     2.8500     0.0000 F             1 RES     \\n      14 F            1.4000     2.8500    -0.0000 F             1 RES     \\n      15 C            0.0000     4.3000     0.0000 C             1 RES     \\n      16 H           -1.1000     4.3000     0.0000 H             1 RES     \\n      17 H            1.1000     4.3000    -0.0000 H             1 RES     \\n      18 C            0.0000     5.7000     0.0000 C             1 RES     \\n      19 H           -1.1000     5.7000     0.0000 H             1 RES     \\n      20 H            1.1000     5.7000    -0.0000 H             1 RES     \\n      21 C            0.0000     7.1500     0.0000 C             1 RES     \\n      22 F           -1.4000     7.1500     0.0000 F             1 RES     \\n      23 F            1.4000     7.1500    -0.0000 F             1 RES     \\n      24 C            0.0000     8.6000     0.0000 C             1 RES     \\n      25 H           -1.1000     8.6000     0.0000 H             1 RES     \\n      26 H            1.1000     8.6000    -0.0000 H             1 RES     \\n      27 C            0.0000    10.0000     0.0000 C             1 RES     \\n      28 H           -1.1000    10.0000     0.0000 H             1 RES     \\n      29 H            1.1000    10.0000    -0.0000 H             1 RES     \\n      30 C            0.0000    11.4500     0.0000 C             1 RES     \\n      31 F           -1.4000    11.4500     0.0000 F             1 RES     \\n      32 F            1.4000    11.4500    -0.0000 F             1 RES     \\n      33 C            0.0000    12.9000     0.0000 C             1 RES     \\n      34 H           -1.1000    12.9000     0.0000 H             1 RES     \\n      35 H            1.1000    12.9000     0.0000 H             1 RES     \\n      36 C            0.0000    14.3000     0.0000 C             1 RES     \\n      37 H           -1.1000    14.3000     0.0000 H             1 RES     \\n      38 H            1.1000    14.3000     0.0000 H             1 RES     \\n      39 C            0.0000    15.7500     0.0000 C             1 RES     \\n      40 F           -1.4000    15.7500     0.0000 F             1 RES     \\n      41 F            1.4000    15.7500     0.0000 F             1 RES     \\n      42 C            0.0000    17.2000     0.0000 C             1 RES     \\n      43 H           -1.1000    17.2000     0.0000 H             1 RES     \\n      44 H            1.1000    17.2000     0.0000 H             1 RES     \\n      45 C            0.0000    18.6000     0.0000 C             1 RES     \\n      46 H           -1.1000    18.6000     0.0000 H             1 RES     \\n      47 H            1.1000    18.6000     0.0000 H             1 RES     \\n      48 C            0.0000    20.0500     0.0000 C             1 RES     \\n      49 F           -1.4000    20.0500     0.0000 F             1 RES     \\n      50 F            1.4000    20.0500     0.0000 F             1 RES     \\n      51 C            0.0000    21.5000     0.0000 C             1 RES     \\n      52 H           -1.1000    21.5000     0.0000 H             1 RES     \\n      53 H            1.1000    21.5000     0.0000 H             1 RES     \\n      54 C            0.0000    22.9000     0.0000 C             1 RES     \\n      55 H           -1.1000    22.9000     0.0000 H             1 RES     \\n      56 H            1.1000    22.9000     0.0000 H             1 RES     \\n      57 O           -0.5430    29.1576     0.9921 O             1 RES     \\n      58 C            0.0046    28.5876    -0.0002 C             1 RES     \\n      59 O            0.5531    29.1527    -0.9941 O             1 RES     \\n      60 C            0.0046    27.0931    -0.0026 C             1 RES     \\n      61 C            0.3012    26.3899     1.1666 C             1 RES     \\n      62 C            0.3107    24.9969     1.1653 C             1 RES     \\n      63 C            0.0000    24.3000     0.0000 C             1 RES     \\n      64 C           -0.3115    24.9966    -1.1647 C             1 RES     \\n      65 C           -0.2992    26.3890    -1.1651 C             1 RES     \\n      66 H            0.9304    28.6354    -1.6778 H             1 RES     \\n      67 H            0.5144    26.9040     2.0356 H             1 RES     \\n      68 H            0.5487    24.4821     2.0267 H             1 RES     \\n      69 H           -0.5516    24.4825    -2.0265 H             1 RES     \\n      70 H           -0.5162    26.9038    -2.0336 H             1 RES     \\n@<TRIPOS>BOND\\n       1        6        9 1\\n       2       42       45 1\\n       3       54       56 1\\n       4       45       46 1\\n       5       33       34 1\\n       6       48       51 1\\n       7       15       18 1\\n       8       48       49 1\\n       9       30       31 1\\n      10       18       19 1\\n      11       12       13 1\\n      12       61       67 1\\n      13       21       24 1\\n      14       36       37 1\\n      15       24       26 1\\n      16       60       65 1\\n      17       45       48 1\\n      18        9       12 1\\n      19       36       39 1\\n      20       18       21 1\\n      21       64       69 1\\n      22       57       58 1\\n      23       30       33 1\\n      24       54       55 1\\n      25       33       35 1\\n      26       24       27 1\\n      27        9       10 1\\n      28       63       64 1\\n      29       21       22 1\\n      30        6        8 1\\n      31       42       44 1\\n      32       33       36 1\\n      33       15       16 1\\n      34       12       15 1\\n      35       54       63 1\\n      36       51       53 1\\n      37        6        7 1\\n      38       42       43 1\\n      39       39       42 1\\n      40       59       66 1\\n      41        1        2 1\\n      42        2        3 1\\n      43       62       68 1\\n      44       60       61 1\\n      45        1        6 1\\n      46       15       17 1\\n      47       65       70 1\\n      48       39       40 1\\n      49        4        5 1\\n      50       27       28 1\\n      51       61       62 1\\n      52       24       25 1\\n      53       39       41 1\\n      54       27       29 1\\n      55       30       32 1\\n      56       18       20 1\\n      57       64       65 1\\n      58       51       54 1\\n      59       62       63 1\\n      60       48       50 1\\n      61       12       14 1\\n      62       36       38 1\\n      63        1        4 1\\n      64       58       59 1\\n      65       27       30 1\\n      66        9       11 1\\n      67       21       23 1\\n      68       45       47 1\\n      69       58       60 1\\n      70       51       52 1\\n@<TRIPOS>SUBSTRUCTURE\\n       1 RES             1 RESIDUE    0 **** ROOT      0\\n\",\"mol2\");\n",
       "\tviewer_16013309116304908.setStyle({\"stick\": {\"radius\": 0.2, \"color\": \"grey\"}, \"sphere\": {\"scale\": 0.3, \"colorscheme\": {}}});\n",
       "\tviewer_16013309116304908.zoomTo();\n",
       "viewer_16013309116304908.render();\n",
       "});\n",
       "</script>"
      ]
     },
     "metadata": {},
     "output_type": "display_data"
    },
    {
     "data": {
      "text/plain": [
       "<py3Dmol.view at 0x7feac20cc438>"
      ]
     },
     "execution_count": 2,
     "metadata": {},
     "output_type": "execute_result"
    }
   ],
   "source": [
    "length = 17; terminal_group = 'benzoicacid'; backbone = 'cf2'; \n",
    "locations = [2,5,8,11,14]\n",
    "\n",
    "cpa = AlkylsilaneInternal(chain_length=length, internal_group=backbone, locations=locations, terminal_group=terminal_group)\n",
    "cpa.visualize()\n",
    "# structure = cpa.to_parmed(box=None, residues=['chain'])\n",
    "# ff = Forcefield(forcefield_files='oplsaa-july-29.xml')\n",
    "\n",
    "# structure_ = ff.apply(structure,verbose=True)\n",
    "\n",
    "# structure_.save('{}-2.top'.format(terminal_group),overwrite=True)"
   ]
  },
  {
   "cell_type": "code",
   "execution_count": 73,
   "metadata": {},
   "outputs": [
    {
     "data": {
      "application/3dmoljs_load.v0": "<div id=\"3dmolviewer_1597439569288048\"  style=\"position: relative; width: 640px; height: 480px\">\n        <p id=\"3dmolwarning_1597439569288048\" style=\"background-color:#ffcccc;color:black\">You appear to be running in JupyterLab (or JavaScript failed to load for some other reason).  You need to install the 3dmol extension: <br>\n        <tt>jupyter labextension install jupyterlab_3dmol</tt></p>\n        </div>\n<script>\n\nvar loadScriptAsync = function(uri){\n  return new Promise((resolve, reject) => {\n    var tag = document.createElement('script');\n    tag.src = uri;\n    tag.async = true;\n    tag.onload = () => {\n      resolve();\n    };\n  var firstScriptTag = document.getElementsByTagName('script')[0];\n  firstScriptTag.parentNode.insertBefore(tag, firstScriptTag);\n});\n};\n\nif(typeof $3Dmolpromise === 'undefined') {\n$3Dmolpromise = null;\n  $3Dmolpromise = loadScriptAsync('https://3dmol.csb.pitt.edu/build/3Dmol.js');\n}\n\nvar viewer_1597439569288048 = null;\nvar warn = document.getElementById(\"3dmolwarning_1597439569288048\");\nif(warn) {\n    warn.parentNode.removeChild(warn);\n}\n$3Dmolpromise.then(function() {\nviewer_1597439569288048 = $3Dmol.createViewer($(\"#3dmolviewer_1597439569288048\"),{backgroundColor:\"white\"});\n\tviewer_1597439569288048.addModel(\"@<TRIPOS>MOLECULE\\nRES\\n20 20 1 0 1\\nSMALL\\nNO_CHARGES\\n@<TRIPOS>CRYSIN\\n    9.8710    12.6090     6.4730    90.0000    90.0000    90.0000  1  1\\n@<TRIPOS>ATOM\\n       1 Si           0.0000     0.0000     0.0000 Si            1 RES     \\n       2 O            1.3073     0.0000     0.0000 O             1 RES     \\n       3 H            1.6345     0.0316    -0.6710 H             1 RES     \\n       4 O           -1.4502     0.1509     0.0000 O             1 RES     \\n       5 H           -1.8179     0.0683     0.8020 H             1 RES     \\n       6 C            0.0000     1.4000     0.0000 C             1 RES     \\n       7 H           -1.1000     1.4000     0.0000 H             1 RES     \\n       8 H            1.1000     1.4000    -0.0000 H             1 RES     \\n       9 C            0.0000     2.8000     0.0000 C             1 RES     \\n      10 H           -1.1000     2.8000     0.0000 H             1 RES     \\n      11 H            1.1000     2.8000    -0.0000 H             1 RES     \\n      12 C            0.0000     4.2000     0.0000 C             1 RES     \\n      13 C            1.3700     5.0980    -0.0000 C             1 RES     \\n      14 N           -1.3250     5.0370     0.0000 N             1 RES     \\n      15 C           -0.7770     6.6200     0.0000 C             1 RES     \\n      16 C            0.9740     6.6500     0.0000 C             1 RES     \\n      17 H           -2.4360     4.7320     0.0000 H             1 RES     \\n      18 H           -1.5380     7.5790     0.0000 H             1 RES     \\n      19 H            1.6130     7.6090     0.0000 H             1 RES     \\n      20 H            2.4350     4.5950    -0.0000 H             1 RES     \\n@<TRIPOS>BOND\\n       1       14       12 1\\n       2       15       18 1\\n       3        1        4 1\\n       4        9       12 1\\n       5        9       10 1\\n       6       14       17 1\\n       7       13       20 1\\n       8       14       15 1\\n       9       16       15 1\\n      10        5        4 1\\n      11        1        6 1\\n      12        9        6 1\\n      13       13       16 1\\n      14       16       19 1\\n      15       13       12 1\\n      16        9       11 1\\n      17        6        8 1\\n      18        2        3 1\\n      19        1        2 1\\n      20        6        7 1\\n@<TRIPOS>SUBSTRUCTURE\\n       1 RES             1 RESIDUE    0 **** ROOT      0\\n\",\"mol2\");\n\tviewer_1597439569288048.setStyle({\"stick\": {\"radius\": 0.2, \"color\": \"grey\"}, \"sphere\": {\"scale\": 0.3, \"colorscheme\": {}}});\n\tviewer_1597439569288048.zoomTo();\nviewer_1597439569288048.render();\n});\n</script>",
      "text/html": [
       "<div id=\"3dmolviewer_1597439569288048\"  style=\"position: relative; width: 640px; height: 480px\">\n",
       "        <p id=\"3dmolwarning_1597439569288048\" style=\"background-color:#ffcccc;color:black\">You appear to be running in JupyterLab (or JavaScript failed to load for some other reason).  You need to install the 3dmol extension: <br>\n",
       "        <tt>jupyter labextension install jupyterlab_3dmol</tt></p>\n",
       "        </div>\n",
       "<script>\n",
       "\n",
       "var loadScriptAsync = function(uri){\n",
       "  return new Promise((resolve, reject) => {\n",
       "    var tag = document.createElement('script');\n",
       "    tag.src = uri;\n",
       "    tag.async = true;\n",
       "    tag.onload = () => {\n",
       "      resolve();\n",
       "    };\n",
       "  var firstScriptTag = document.getElementsByTagName('script')[0];\n",
       "  firstScriptTag.parentNode.insertBefore(tag, firstScriptTag);\n",
       "});\n",
       "};\n",
       "\n",
       "if(typeof $3Dmolpromise === 'undefined') {\n",
       "$3Dmolpromise = null;\n",
       "  $3Dmolpromise = loadScriptAsync('https://3dmol.csb.pitt.edu/build/3Dmol.js');\n",
       "}\n",
       "\n",
       "var viewer_1597439569288048 = null;\n",
       "var warn = document.getElementById(\"3dmolwarning_1597439569288048\");\n",
       "if(warn) {\n",
       "    warn.parentNode.removeChild(warn);\n",
       "}\n",
       "$3Dmolpromise.then(function() {\n",
       "viewer_1597439569288048 = $3Dmol.createViewer($(\"#3dmolviewer_1597439569288048\"),{backgroundColor:\"white\"});\n",
       "\tviewer_1597439569288048.addModel(\"@<TRIPOS>MOLECULE\\nRES\\n20 20 1 0 1\\nSMALL\\nNO_CHARGES\\n@<TRIPOS>CRYSIN\\n    9.8710    12.6090     6.4730    90.0000    90.0000    90.0000  1  1\\n@<TRIPOS>ATOM\\n       1 Si           0.0000     0.0000     0.0000 Si            1 RES     \\n       2 O            1.3073     0.0000     0.0000 O             1 RES     \\n       3 H            1.6345     0.0316    -0.6710 H             1 RES     \\n       4 O           -1.4502     0.1509     0.0000 O             1 RES     \\n       5 H           -1.8179     0.0683     0.8020 H             1 RES     \\n       6 C            0.0000     1.4000     0.0000 C             1 RES     \\n       7 H           -1.1000     1.4000     0.0000 H             1 RES     \\n       8 H            1.1000     1.4000    -0.0000 H             1 RES     \\n       9 C            0.0000     2.8000     0.0000 C             1 RES     \\n      10 H           -1.1000     2.8000     0.0000 H             1 RES     \\n      11 H            1.1000     2.8000    -0.0000 H             1 RES     \\n      12 C            0.0000     4.2000     0.0000 C             1 RES     \\n      13 C            1.3700     5.0980    -0.0000 C             1 RES     \\n      14 N           -1.3250     5.0370     0.0000 N             1 RES     \\n      15 C           -0.7770     6.6200     0.0000 C             1 RES     \\n      16 C            0.9740     6.6500     0.0000 C             1 RES     \\n      17 H           -2.4360     4.7320     0.0000 H             1 RES     \\n      18 H           -1.5380     7.5790     0.0000 H             1 RES     \\n      19 H            1.6130     7.6090     0.0000 H             1 RES     \\n      20 H            2.4350     4.5950    -0.0000 H             1 RES     \\n@<TRIPOS>BOND\\n       1       14       12 1\\n       2       15       18 1\\n       3        1        4 1\\n       4        9       12 1\\n       5        9       10 1\\n       6       14       17 1\\n       7       13       20 1\\n       8       14       15 1\\n       9       16       15 1\\n      10        5        4 1\\n      11        1        6 1\\n      12        9        6 1\\n      13       13       16 1\\n      14       16       19 1\\n      15       13       12 1\\n      16        9       11 1\\n      17        6        8 1\\n      18        2        3 1\\n      19        1        2 1\\n      20        6        7 1\\n@<TRIPOS>SUBSTRUCTURE\\n       1 RES             1 RESIDUE    0 **** ROOT      0\\n\",\"mol2\");\n",
       "\tviewer_1597439569288048.setStyle({\"stick\": {\"radius\": 0.2, \"color\": \"grey\"}, \"sphere\": {\"scale\": 0.3, \"colorscheme\": {}}});\n",
       "\tviewer_1597439569288048.zoomTo();\n",
       "viewer_1597439569288048.render();\n",
       "});\n",
       "</script>"
      ]
     },
     "metadata": {},
     "output_type": "display_data"
    },
    {
     "data": {
      "text/plain": [
       "<py3Dmol.view at 0x7fe23f15fdd8>"
      ]
     },
     "execution_count": 73,
     "metadata": {},
     "output_type": "execute_result"
    }
   ],
   "source": [
    "cpa.visualize()"
   ]
  },
  {
   "cell_type": "code",
   "execution_count": 29,
   "metadata": {},
   "outputs": [
    {
     "data": {
      "text/plain": [
       "'[Si](O)(O)CCn1ncnc1'"
      ]
     },
     "execution_count": 29,
     "metadata": {},
     "output_type": "execute_result"
    }
   ],
   "source": [
    "cpa.get_smiles()"
   ]
  },
  {
   "cell_type": "markdown",
   "metadata": {},
   "source": [
    "Dual monolayer with short chains"
   ]
  },
  {
   "cell_type": "code",
   "execution_count": 5,
   "metadata": {},
   "outputs": [],
   "source": [
    "length = 17; seed = 12345; pattern_type = \"random\"; terminal_group = 'benzoicacid'; fraction = 0.5; num_chains = 1; backbone = 'methylene'; locations = [2,5,8,11,14]\n",
    "\n",
    "cpa = AlkylsilaneInternal(chain_length=length, internal_group=backbone, locations=locations, terminal_group=terminal_group);\n",
    "cpb = AlkylsilaneInternal(chain_length=length, internal_group=backbone, locations=locations, terminal_group=terminal_group);\n",
    "cpc = AlkylsilaneInternal(chain_length=length, internal_group=backbone, locations=locations, terminal_group=terminal_group);\n",
    "cpd = AlkylsilaneInternal(chain_length=length, internal_group=backbone, locations=locations, terminal_group=terminal_group);\n",
    "\n",
    "surface_a = SilicaInterface(thickness=1.2, seed=seed)\n",
    "surface_b = SilicaInterface(thickness=1.2, seed=seed)\n",
    "\n",
    "monolayer_a = SurfaceMonolayer(surface=surface_a, chains=[cpa,cpb], n_chains=num_chains, seed=seed, backfill=H(), rotate=False, fractions=[fraction, 1-fraction]);\n",
    "monolayer_a.name = \"Bottom\"\n",
    "        \n",
    "monolayer_b = SurfaceMonolayer(surface=surface_b, chains=[cpc,cpd], n_chains=num_chains, seed=seed, backfill=H(), rotate=False, fractions=[fraction, 1-fraction]);\n",
    "monolayer_b.name = \"Top\"\n",
    "\n",
    "dual_monolayer = DualSurface(bottom=monolayer_a, top=monolayer_b, separation=2.0);\n",
    "box = dual_monolayer.boundingbox; dual_monolayer.periodicity += np.array([0, 0, 5.0 * box.lengths[2]])\n",
    "\n",
    "for p in dual_monolayer.particles():\n",
    "    if p.name == \"OS\":\n",
    "        p.name = \"O\"\n",
    "\n",
    "structure = dual_monolayer.to_parmed(box=None, residues=[\"Top\", \"Bottom\"])\n",
    "ff = Forcefield(forcefield_files='oplsaa-july-29.xml')\n",
    "structure = ff.apply(structure,verbose=True)"
   ]
  },
  {
   "cell_type": "code",
   "execution_count": 6,
   "metadata": {},
   "outputs": [],
   "source": [
    "structure.save('{}-system.top'.format(terminal_group), overwrite=True)"
   ]
  },
  {
   "cell_type": "code",
   "execution_count": 58,
   "metadata": {},
   "outputs": [
    {
     "data": {
      "image/png": "[encoded data removed]",
      "text/plain": [
       "<rdkit.Chem.rdchem.Mol at 0x7fe23eda6210>"
      ]
     },
     "execution_count": 58,
     "metadata": {},
     "output_type": "execute_result"
    }
   ],
   "source": [
    "substructure = Chem.MolFromSmarts(\n",
    "    '[N;X2;r5]1[C;X3;r5][N;X2;r5][N;X3;r5][C;X3;r5]1'\n",
    "    )\n",
    "substructure"
   ]
  },
  {
   "cell_type": "code",
   "execution_count": 74,
   "metadata": {},
   "outputs": [
    {
     "data": {
      "image/png": "[encoded data removed]",
      "text/plain": [
       "<rdkit.Chem.rdchem.Mol at 0x7fe23f533670>"
      ]
     },
     "execution_count": 74,
     "metadata": {},
     "output_type": "execute_result"
    }
   ],
   "source": [
    "substructure = Chem.MolFromSmarts(\n",
    "     '[C;X4][N;X3;r5]'\n",
    "    )\n",
    "substructure"
   ]
  },
  {
   "cell_type": "code",
   "execution_count": 44,
   "metadata": {},
   "outputs": [
    {
     "data": {
      "image/png": "[encoded data removed]",
      "text/plain": [
       "<rdkit.Chem.rdchem.Mol at 0x7fe23f079990>"
      ]
     },
     "execution_count": 44,
     "metadata": {},
     "output_type": "execute_result"
    }
   ],
   "source": [
    "substructure = Chem.MolFromSmarts(\n",
    "\"C(N)N\"    )\n",
    "substructure"
   ]
  },
  {
   "cell_type": "code",
   "execution_count": 85,
   "metadata": {},
   "outputs": [
    {
     "data": {
      "image/png": "[encoded data removed]",
      "text/plain": [
       "<rdkit.Chem.rdchem.Mol at 0x7fe23a306030>"
      ]
     },
     "execution_count": 85,
     "metadata": {},
     "output_type": "execute_result"
    }
   ],
   "source": [
    "substructure = Chem.MolFromSmarts(\n",
    "    '[C][N;X3](C)(C)'\n",
    "    )\n",
    "substructure"
   ]
  }
 ],
 "metadata": {
  "kernelspec": {
   "display_name": "Python 3",
   "language": "python",
   "name": "python3"
  },
  "language_info": {
   "codemirror_mode": {
    "name": "ipython",
    "version": 3
   },
   "file_extension": ".py",
   "mimetype": "text/x-python",
   "name": "python",
   "nbconvert_exporter": "python",
   "pygments_lexer": "ipython3",
   "version": "3.6.10"
  }
 },
 "nbformat": 4,
 "nbformat_minor": 4
}
